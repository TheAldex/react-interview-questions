{
  "cells": [
    {
      "cell_type": "markdown",
      "metadata": {},
      "source": [
        "# **REACT INTERVIEW QUESTIONS**\n",
        "\n",
        "## **What is React?**\n",
        "React is a **front-end and open-source** JavaScript library which is useful in developing user interfaces specifically for applications with a single page. It is helpful in building complex and reusable user interface components of mobile and web applications as it follows the component-based approach.\n",
        "\n",
        "The important features of React are:\n",
        "\n",
        "- It supports **server-side rendering**.\n",
        "- It will make use of the **Virtual DOM rather than Real DOM** as Real DOM manipulations are expensive.\n",
        "- It follows **unidirectional data binding** or data flow.\n",
        "- It uses **reusable or composable UI components** for developing the view.\n",
        "\n",
        "## **What are the limitations of using React?**\n",
        "The few limitations of React are as given below:\n",
        "\n",
        "- React is **not a full-blown framework** as it is only a library.\n",
        "- The components of React are numerous and will take time to fully grasp the benefits of all.\n",
        "- It might be **difficult for beginner programmers** to understand React.\n",
        "- Coding might become **complex** as it will make use of inline templating and JSX.\n",
        "\n",
        "## **What are *props* in React?**\n",
        "**Props** are **inputs to a React component**. They are single values or objects containing a set of values that are passed to React Components on creation using a naming convention similar to HTML-tag attributes.\n"
      ]
    },
    {
      "cell_type": "code",
      "execution_count": null,
      "metadata": {
        "vscode": {
          "languageId": "html"
        }
      },
      "outputs": [],
      "source": [
        "<Element count = \"1\" />"
      ]
    },
    {
      "cell_type": "markdown",
      "metadata": {},
      "source": [
        "Where *count* is a numeric prop passed to Element component.\n",
        "\n",
        "## **How to create *refs* in React?**\n",
        "**Refs** are created using React.createRef() method and **attached to React elements** via the ref attribute. In order to use refs throughout the component, just assign the ref to the instance property with in constructor.\n",
        "\n",
        "We can also use it in functional components with the help of closures. Let's see an example:"
      ]
    },
    {
      "cell_type": "code",
      "execution_count": null,
      "metadata": {
        "vscode": {
          "languageId": "javascriptreact"
        }
      },
      "outputs": [],
      "source": [
        "class MyComponent extends React.Component {\n",
        "  constructor(props) {\n",
        "    super(props); \n",
        "    this.myRef = React.createRef();\n",
        "  }\n",
        "  render() {\n",
        "    return <div ref={this.myRef} />;\n",
        "  }\n",
        "}"
      ]
    },
    {
      "cell_type": "markdown",
      "metadata": {},
      "source": [
        "## **What are *keys* in React?**\n",
        "A key is a **special string attribute** that needs to be included when using lists of elements. An example of how to use them is given below:"
      ]
    },
    {
      "cell_type": "code",
      "execution_count": null,
      "metadata": {
        "vscode": {
          "languageId": "javascriptreact"
        }
      },
      "outputs": [],
      "source": [
        "const ids = [1,2,3,4,5];\n",
        "\n",
        "const listElements = ids.map((id)=>{\n",
        "    return(\n",
        "        <li key={id.toString()}>\n",
        "          {id}\n",
        "        </li>\n",
        "    )\n",
        "})"
      ]
    },
    {
      "cell_type": "markdown",
      "metadata": {},
      "source": [
        "## **What is JSX?**\n",
        "**JSX** stands for **JavaScript XML**. It allows us to **write HTML inside JavaScript** and place them in the DOM without using functions like *appendChild()* or *createElement()*. Let’s understand how JSX works.\n",
        "\n",
        "**Without using JSX**, we would have to create an element by the following process:"
      ]
    },
    {
      "cell_type": "code",
      "execution_count": null,
      "metadata": {
        "vscode": {
          "languageId": "javascriptreact"
        }
      },
      "outputs": [],
      "source": [
        "const text = React.createElement('p', {}, 'This is a text');\n",
        "const container = React.createElement('div','{}',text );\n",
        "ReactDOM.render(container,rootElement);"
      ]
    },
    {
      "cell_type": "markdown",
      "metadata": {},
      "source": [
        "**Using JSX**, the above code can be simplified:"
      ]
    },
    {
      "cell_type": "code",
      "execution_count": null,
      "metadata": {
        "vscode": {
          "languageId": "javascriptreact"
        }
      },
      "outputs": [],
      "source": [
        "const container = (\n",
        "    <div>\n",
        "      <p>This is a text</p>\n",
        "    </div>\n",
        ");\n",
        "\n",
        "ReactDOM.render(container,rootElement);"
      ]
    },
    {
      "cell_type": "markdown",
      "metadata": {},
      "source": [
        "As one can see in the code above, we are directly using HTML inside JavaScript."
      ]
    },
    {
      "cell_type": "markdown",
      "metadata": {},
      "source": [
        "## **What are Higher-Order Components (HOC) in React?**\n",
        "A higher-order component (**HOC**) is a function that takes a component and returns a new component. It’s a pattern that is derived from React’s compositional nature. We call them as *pure’ components* because they can accept any dynamically provided child component but they **won’t modify or copy any behavior from their input components**."
      ]
    },
    {
      "cell_type": "code",
      "execution_count": null,
      "metadata": {
        "vscode": {
          "languageId": "javascriptreact"
        }
      },
      "outputs": [],
      "source": [
        "const EnhancedComponent = higherOrderComponent(WrappedComponent);"
      ]
    },
    {
      "cell_type": "markdown",
      "metadata": {},
      "source": [
        "## **What are *refs* used for in React?**\n",
        "**Refs** are an escape hatch which allow you to **get direct access to a DOM element or an instance of a component**. In order to use them you add a ref attribute to your component whose value is a callback function which will receive the underlying DOM element or the mounted instance of the component as its first argument.\n",
        "\n",
        "It’s often misconstrued that you need to use a class component in order to use refs, but **refs can also be used with functional components** by leveraging closures in JavaScript."
      ]
    },
    {
      "cell_type": "code",
      "execution_count": null,
      "metadata": {
        "vscode": {
          "languageId": "javascriptreact"
        }
      },
      "outputs": [],
      "source": [
        "function CustomForm ({handleSubmit}) {\n",
        "  let inputElement\n",
        "  return (\n",
        "    <form onSubmit={() => handleSubmit(inputElement.value)}>\n",
        "      <input\n",
        "        type='text'\n",
        "        ref={(input) => inputElement = input} />\n",
        "      <button type='submit'>Submit</button>\n",
        "    </form>\n",
        "  )\n",
        "}"
      ]
    },
    {
      "cell_type": "markdown",
      "metadata": {},
      "source": [
        "## **What is React Hooks?**\n",
        "**React Hooks** are the **built-in functions** that permit developers for **using the state and lifecycle methods** within React components. Each lifecycle of a component is having 3 phases which include mount, unmount, and update. Along with that, components have properties and states. Hooks will allow using these methods by developers for improving the reuse of code with higher flexibility navigating the component tree.\n",
        "\n",
        "Using Hook, **all features of React can be used without writing class components**.\n",
        "\n",
        "## **Does React Hook work with static typing?**\n",
        "Static typing refers to the **process of code check during the time of compilation** for ensuring all variables will be statically typed. React Hooks are functions that are designed to make sure about **all attributes must be statically typed**. For enforcing stricter static typing within our code, we can make use of the React API with custom Hooks.\n",
        "\n",
        "## **What are advantages of using React Hooks?**\n",
        "First of all, hooks in general enable the extraction and reuse of stateful logic that is common across multiple components without the burden of higher order components or render props. **Hooks** allow to easily **manipulate the state** of our functional component without needing to convert them into class components.\n",
        "\n",
        "Hooks don’t work inside classes (because they let you use React without classes). By using them, we can totally avoid using lifecycle methods, such as *componentDidMount*, *componentDidUpdate*, *componentWillUnmount*. Instead, we will use built-in hooks like *useEffect*.\n",
        "\n",
        "## **What are the differences between a Class Component and Functional Component?**\n",
        "**Class Components:** can make use of the lifecycle methods. They extend from React.Component and, in here, you have to use this keyword to access the props and functions that you declare inside the class components.\n",
        "\n",
        "**Functional Components:** are basically render functions in the class component (mainly focuses on the UI of the application, not on the behavior) and can have state and mimic lifecycle events using *Reach Hooks*.\n",
        "\n",
        "## **What does it mean for a component to be mounted in React?**\n",
        "It has a **corresponding element** created in the DOM and is connected to it.\n",
        "\n",
        "## **What is useState() in React?**\n",
        "*useState* is one of build-in **react hooks**. Let's see a use case:"
      ]
    },
    {
      "cell_type": "code",
      "execution_count": null,
      "metadata": {
        "vscode": {
          "languageId": "javascriptreact"
        }
      },
      "outputs": [],
      "source": [
        "// ...\n",
        "const [count, setCounter] = useState(0);\n",
        "const [moreStuff, setMoreStuff] = useState(null);\n",
        "// ...\n",
        "\n",
        "const setCount = () => {\n",
        "    setCounter(count + 1);\n",
        "    setMoreStuff('yes');\n",
        "    // ...\n",
        "};"
      ]
    },
    {
      "cell_type": "markdown",
      "metadata": {},
      "source": [
        "*useState(0)* returns a tuple where the first parameter *count* is the **current state** of the counter and *setCounter* is the method that will allow us to **update** the counter's state.\n",
        "\n",
        "We can use the *setCounter* method to update the state of count anywhere - In this case we are using it inside of the setCount function where we can do more things; the idea with hooks is that we are able to keep our code more functional and avoid class based components if not desired/needed.\n",
        "\n",
        "## **What is the difference between *state* and *props*?**\n",
        "Both props and state are **plain JavaScript objects**. While both of them hold information that influences the output of render, they are different in their **functionality with respect to component**:\n",
        "\n",
        "**Props** get passed to the component similar to function parameters.\n",
        "\n",
        "**State** is managed within the component similar to variables declared within a function.\n",
        "\n",
        "## **What is React Router?**\n",
        "**React Router** refers to the standard library used for **routing in React**. It permits us for building a single-page web application in React with **navigation without even refreshing the page** when the user navigates. It also allows to change the browser URL and will keep the user interface in sync with the URL. React Router will make use of the component structure for calling the components, using which appropriate information can be shown. Since React is a component-based framework, it’s not necessary to include and use this package. Any other compatible routing library would also work with React.\n",
        "\n",
        "The major components of React Router are given below:\n",
        "\n",
        "- **BrowserRouter:** It is a router implementation that will make use of the HTML5 history API (pushState, popstate, and event replaceState) for keeping your UI to be in sync with the URL. It is the parent component useful in storing all other components.\n",
        "- **Routes:** It is a newer component that has been introduced in the React v6 and an upgrade of the component.\n",
        "- **Route:** It is considered to be a conditionally shown component and some UI will be rendered by this whenever there is a match between its path and the current URL.\n",
        "- **Link:** It is useful in creating links to various routes and implementing navigation all over the application. It works similarly to the anchor tag in HTML.\n",
        "\n",
        "## **Can React Hook replaces Redux?**\n",
        "The React Hook **cannot be considered as a replacement** for Redux when it comes to the management of the global application state tree in large complex applications, even though React will provide a *useReducer* hook that manages state transitions similar to Redux. Redux is very **useful at a lower level** of component hierarchy to handle the pieces of a state which are dependent on each other, instead of a declaration of multiple *useState* hooks.\n",
        "\n",
        "In commercial web applications which is larger, the complexity will be high, so using only React Hook may not be sufficient. Few developers will try to tackle the challenge with the help of React Hooks and others will combine React Hooks with the Redux.\n",
        "\n",
        "## **Explain conditional rendering in React**\n",
        "**Conditional rendering** refers to the **dynamic output of user interface markups based on a condition state**. It works in the same way as JavaScript conditions. Using conditional rendering, it is possible to toggle specific application functions, API data rendering, hide or show elements, decide permission levels, authentication handling, and so on.\n",
        "\n",
        "There are different approaches for implementing conditional rendering in React. Some of them are:\n",
        "\n",
        "- Using **if-else conditional logic** which is suitable for smaller as well as for medium-sized applications\n",
        "- Using **ternary operators**, which takes away some amount of complication from if-else statements\n",
        "- Using **element variables**, which will enable us to write cleaner code\n",
        "\n",
        "## **What is the purpose of using super constructor with *props* argument in React?**\n",
        "A child class constructor cannot make use of this reference until super() method has been called. The same applies for ES6 sub-classes as well. The main reason of passing props parameter to super() call is to **access *this.props* in your child constructors**."
      ]
    },
    {
      "cell_type": "code",
      "execution_count": null,
      "metadata": {
        "vscode": {
          "languageId": "javascriptreact"
        }
      },
      "outputs": [],
      "source": [
        "class MyComponent extends React.Component {\n",
        "    constructor(props) {\n",
        "        super(props);\n",
        "        console.log(this.props);  // Prints { name: 'sudheer',age: 30 }\n",
        "    }\n",
        "}"
      ]
    },
    {
      "cell_type": "markdown",
      "metadata": {},
      "source": [
        "The behavior of *this.props* is different only within the constructor. It would be same outside the constructor.\n",
        "\n",
        "## **What's the difference between a Controlled Component and an Uncontrolled Component in React?**\n",
        "A **Controlled Component** is one that takes its **current value through props and notifies changes** through callbacks like *onChange*. A parent component \"controls\" it by handling the callback and managing its own state and passing the new values as props to the controlled component.\n",
        "\n",
        "An **Uncontrolled Component** is one that **stores its own state internally**, and you query the DOM using a ref to find its current value when you need it."
      ]
    },
    {
      "cell_type": "code",
      "execution_count": null,
      "metadata": {
        "vscode": {
          "languageId": "html"
        }
      },
      "outputs": [],
      "source": [
        "// Controlled:\n",
        "<input type=\"text\" value={value} onChange={handleChange} />\n",
        "\n",
        "// Uncontrolled:\n",
        "<input type=\"text\" defaultValue=\"foo\" ref={inputRef} />\n",
        "// Use `inputRef.current.value` to read the current value of <input>"
      ]
    },
    {
      "cell_type": "markdown",
      "metadata": {},
      "source": [
        "In most cases it is recommended to use Controlled Components.\n",
        "\n",
        "## **Can you initialise *state* from a function?**\n",
        "It is posible. An example is provided:"
      ]
    },
    {
      "cell_type": "code",
      "execution_count": null,
      "metadata": {
        "vscode": {
          "languageId": "javascriptreact"
        }
      },
      "outputs": [],
      "source": [
        "const StateFromFn = () => {\n",
        "  const [token] = useState(() => {\n",
        "    let token = window.localStorage.getItem(\"my-token\");\n",
        "    return token || \"default#-token#\"\n",
        "  })\n",
        "\n",
        "  return <div>Token is {token}</div>\n",
        "}"
      ]
    },
    {
      "cell_type": "markdown",
      "metadata": {},
      "source": [
        "## **How to re-render the view when the browser is resized?**\n",
        "It is possible to **listen to the resize event** in *componentDidMount()* and then update the width and height dimensions. It requires the **removal of the event listener** in the *componentWillUnmount()* method.\n",
        "\n",
        "Using the below-given code, we can render the view when the browser is resized:"
      ]
    },
    {
      "cell_type": "code",
      "execution_count": null,
      "metadata": {
        "vscode": {
          "languageId": "javascriptreact"
        }
      },
      "outputs": [],
      "source": [
        "class WindowSizeDimensions extends React.Component {\n",
        "     constructor(props){\n",
        "       super(props);\n",
        "       this.updateDimension = this.updateDimension.bind(this);\n",
        "     }\n",
        "  \n",
        "     componentWillMount() {\n",
        "       this.updateDimension()\n",
        "     }\n",
        "     componentDidMount() {\n",
        "       window.addEventListener('resize', this.updateDimension)\n",
        "     }\n",
        "     componentWillUnmount() {\n",
        "       window.removeEventListener('resize', this.updateDimension)\n",
        "     }\n",
        "    \n",
        "     updateDimension() {\n",
        "       this.setState({width: window.innerWidth, height: window.innerHeight})\n",
        "     }\n",
        "    \n",
        "     render() {\n",
        "       return <span>{this.state.width} x {this.state.height}</span>\n",
        "     }\n",
        "}"
      ]
    },
    {
      "cell_type": "markdown",
      "metadata": {},
      "source": [
        "## **Does React *useState* Hook update immediately?**\n",
        "React *useState* and *setState* don’t make changes directly to the state object; they **create queues** to optimize performance, which is why the changes don’t update immediately. The process to update React state is asynchronous for performance reasons.\n",
        "\n",
        "To perform side effects after state has change, you must use the *useEffect*.\n",
        "\n",
        "## **How can you make use of *Error Boundaries* in Functional React components?**\n",
        "There's no way to turn a functional component into an *error boundary*. The *componentDidCatch()* method works like a JavaScript *catch* block, but for components. **Only class components can be *error boundaries***. In practice, most of the time you’ll want to declare an *error boundary* component once and use it throughout your application.\n",
        "\n",
        "Also bear in mind that try/catch blocks won't work on all cases. If a component deep in the hierarchy tries to update and fails, the try/catch block in one of the parents won't work, because it isn't necessarily updating together with the child.\n",
        "\n",
        "## **What are the lifecycle methods of React class components?**\n"
      ]
    },
    {
      "cell_type": "markdown",
      "metadata": {},
      "source": [
        "These are all the React lifecycle methods:\n",
        "\n",
        "- ***componentWillMount***: Executed before rendering and is used for App level configuration in your root component.\n",
        "\n",
        "- ***componentDidMount***: Executed after first rendering and here all AJAX requests, DOM or state updates, and set up eventListeners should occur.\n",
        "\n",
        "- ***componentWillReceiveProps***: Executed when particular prop updates to trigger state transitions.\n",
        "\n",
        "- ***shouldComponentUpdate***: Determines if the component will be updated or not. By default it returns true. If you are sure that the component doesn't need to render after state or props are updated, you can return false value. It is a great place to improve performance as it allows you to prevent a rerender if component receives new prop.\n",
        "\n",
        "- ***componentWillUpdate***: Executed before re-rendering the component when there are pros & state changes confirmed by shouldComponentUpdate which returns true.\n",
        "\n",
        "- ***componentDidUpdate***: Mostly it is used to update the DOM in response to prop or state changes.\n",
        "\n",
        "- ***componentWillUnmount***: It will be used to cancel any outgoing network requests, or remove all event listeners associated with the component.\n",
        "\n",
        "## **What are the different phases of React component lifecycle?**\n",
        "There are four different phases of React component’s lifecycle:\n",
        "\n",
        "- **Initialization**: In this phase react component prepares setting up the initial state and default props.\n",
        "\n",
        "- **Mounting**: The react component is ready to mount in the browser DOM. This phase covers *componentWillMount* and *componentDidMount* lifecycle methods.\n",
        "\n",
        "- **Updating**: In this phase, the component get updated in two ways, sending the new props and updating the state. This phase covers shouldComponentUpdate, *componentWillUpdate* and *componentDidUpdate* lifecycle methods.\n",
        "\n",
        "- **Unmounting**: In this last phase, the component is not needed and get unmounted from the browser DOM. This phase include *componentWillUnmount* lifecycle method.\n",
        "\n",
        "## **What do these three dots (...) within an array in React do?**\n",
        "That's property spread notation. The code below:"
      ]
    },
    {
      "cell_type": "code",
      "execution_count": null,
      "metadata": {
        "vscode": {
          "languageId": "javascriptreact"
        }
      },
      "outputs": [],
      "source": [
        "<Modal {...this.props} title='Modal heading' animation={false} />"
      ]
    },
    {
      "cell_type": "markdown",
      "metadata": {},
      "source": [
        "would be the same as:"
      ]
    },
    {
      "cell_type": "code",
      "execution_count": null,
      "metadata": {
        "vscode": {
          "languageId": "javascriptreact"
        }
      },
      "outputs": [],
      "source": [
        "<Modal a={this.props.a} b={this.props.b} title='Modal heading' animation={false} />"
      ]
    },
    {
      "cell_type": "markdown",
      "metadata": {},
      "source": [
        "Spread notation is handy not only for that use case, but for creating a new object with most of the properties of an existing object:"
      ]
    },
    {
      "cell_type": "code",
      "execution_count": null,
      "metadata": {
        "vscode": {
          "languageId": "javascriptreact"
        }
      },
      "outputs": [],
      "source": [
        "this.setState(prevState => {\n",
        "    return {foo: {...prevState.foo, a: \"updated\"}};\n",
        "});"
      ]
    },
    {
      "cell_type": "markdown",
      "metadata": {},
      "source": [
        "## **What is *prop drilling* and how can you avoid it?**\n",
        "When building a React application, there is often the need for a deeply nested component to use data provided by another component that is much higher in the hierarchy. The simplest approach is to **pass a prop from each component to the next** in the hierarchy from the source component to the deeply nested component. This is called ***prop drilling***.\n",
        "\n",
        "The primary disadvantage of prop drilling is that components that should not otherwise be aware of the data become unnecessarily complicated and are harder to maintain.\n",
        "\n",
        "To avoid *prop drilling*, a common approach is to **use React context**. This allows a Provider Component that supplies data to be defined, and allows nested components to consume context data via either a Consumer Component or a *useContext* hook.\n",
        "\n",
        "## **What is *StrictMode* in React?**\n",
        "React's ***StrictMode*** will help you **write better react components**, you can wrap a set of components with *<StrictMode />* and it'll basically do the following:\n",
        "\n",
        "1. Verify that the components inside are following some of the recommended practices and warn you if not in the console.\n",
        "\n",
        "2. Verify the deprecated methods are not being used, and if they're used strict mode will warn you in the console.\n",
        "\n",
        "3. Help you prevent some side effects by identifying potential risks.\n",
        "\n",
        "## **What is the difference between Shadow DOM and Virtual DOM?**\n",
        "**Virtual DOM** is about avoiding unnecessary changes to the DOM, which are expensive performance-wise, because changes to the DOM usually cause re-rendering of the page. Virtual DOM also allows to collect several changes to be applied at once, so not every single change causes a re-render, but instead re-rendering only happens once after a set of changes was applied to the DOM.\n",
        "\n",
        "**Shadow Dom** is mostly about encapsulation of the implementation. A single custom element can implement more-or-less complex logic combined with more-or-less complex DOM. An entire web application of arbitrary complexity can be added to a page by an import but also simpler reusable and composable components can be implemented as custom elements where the internal representation is hidden in the shadow DOM.\n",
        "\n",
        "## **Why do class methods need to be bound to a class instance?**\n",
        "In JavaScript, the value of this changes depending on the current context. Within **React class component methods**, developers normally expect this to **refer to the current instance of a component**, so it is necessary to bind these methods to the instance. Normally this is done in the constructor, for example:"
      ]
    },
    {
      "cell_type": "code",
      "execution_count": null,
      "metadata": {
        "vscode": {
          "languageId": "javascriptreact"
        }
      },
      "outputs": [],
      "source": [
        "class SubmitButton extends React.Component {\n",
        "  constructor(props) {\n",
        "    super(props);\n",
        "    this.state = {\n",
        "      isFormSubmitted: false\n",
        "    };\n",
        "    this.handleSubmit = this.handleSubmit.bind(this);\n",
        "  }\n",
        "\n",
        "  handleSubmit() {\n",
        "    this.setState({\n",
        "      isFormSubmitted: true\n",
        "    });\n",
        "  }\n",
        "\n",
        "  render() {\n",
        "    return (\n",
        "      <button onClick={this.handleSubmit}>Submit</button>\n",
        "    )\n",
        "  }\n",
        "}"
      ]
    },
    {
      "cell_type": "markdown",
      "metadata": {},
      "source": [
        "## **Why we should not update state directly?**\n",
        "If you try to update state directly then it **won’t re-render the component**."
      ]
    },
    {
      "cell_type": "code",
      "execution_count": null,
      "metadata": {
        "vscode": {
          "languageId": "javascriptreact"
        }
      },
      "outputs": [],
      "source": [
        "this.state.message = 'Hello world';"
      ]
    },
    {
      "cell_type": "markdown",
      "metadata": {},
      "source": [
        "Instead use *setState()* method. It schedules an update to a component’s state object. When state changes, the component responds by re-rendering:"
      ]
    },
    {
      "cell_type": "code",
      "execution_count": null,
      "metadata": {
        "vscode": {
          "languageId": "javascriptreact"
        }
      },
      "outputs": [],
      "source": [
        "this.setState({message: 'Hello World'});"
      ]
    },
    {
      "cell_type": "markdown",
      "metadata": {},
      "source": [
        "## **Describe Flux and MVC**\n",
        "Traditional **MVC patterns** have worked well for separating the concerns of data, UI and logic. But MVC architectures frequently encounter two main problems:\n",
        "\n",
        "- **Poorly defined data flow**: The cascading updates which occur across views often lead to a tangled web of events which is difficult to debug.\n",
        "\n",
        "- **Lack of data integrity**: Model data can be mutated from anywhere, yielding unpredictable results across the UI.\n",
        "\n",
        "With the **Flux pattern** complex UIs no longer suffer from cascading updates; any given React component will be able to reconstruct its state based on the data provided by the store. The Flux pattern also **enforces data integrity** by restricting direct access to the shared data.\n",
        "\n",
        "## **Describe how events are handled in React**\n",
        "In order to **solve cross browser compatibility issues**, your event handlers in React will be passed instances of *SyntheticEvent*, which is React’s cross-browser wrapper around the browser’s native event. These synthetic events have the same interface as native events you’re used to, except they work identically across all browsers.\n",
        "\n",
        "What’s mildly interesting is that React doesn’t actually attach events to the child nodes themselves. React will listen to all events at the top level using a single event listener. This is good for performance and it also means that React doesn’t need to worry about keeping track of event listeners when updating the DOM.\n",
        "\n",
        "## **Do Hooks replace render *props* and higher-order components (HOC)?**\n",
        "Often, render props and higher-order components **render only a single child**. React team thinks **Hooks are a simpler way to serve this use case**.\n",
        "\n",
        "There is still a place for both patterns (for example, a virtual scroller component might have a renderItem prop, or a visual container component might have its own DOM structure). But in most cases, Hooks will be sufficient and can help reduce nesting in your tree.\n",
        "\n",
        "## **Explain why and when would you use *useMemo()***\n",
        "In the lifecycle of a component, React re-renders the component when an update is made. When React checks for any changes in a component, it may detect an **unintended or unexpected change** due to **how JavaScript handles equality and shallow comparisons**. This change in the React application will cause it to **re-render unnecessarily**. Additionally, if that re-rendering is an expensive operation, like a long for loop, it can hurt performance. Expensive operations can be costly in either time, memory, or processing.\n",
        "\n",
        "Memoization is an **optimization technique** which passes a complex function to be memoized. In memoization, the result is *remembered* when the same parameters are passed-in subsequently:"
      ]
    },
    {
      "cell_type": "code",
      "execution_count": null,
      "metadata": {
        "vscode": {
          "languageId": "javascriptreact"
        }
      },
      "outputs": [],
      "source": [
        "const memoizedValue = React.useMemo(() => computeExpensiveValue(a, b), [a, b]);"
      ]
    },
    {
      "cell_type": "markdown",
      "metadata": {},
      "source": [
        "*useMemo* takes in a function and an array of dependencies. The dependency’s list are the elements *useMemo* watches: if there are no changes, the **function result will stay the same**. Otherwise, it will re-run the function. If they don’t change, it doesn’t matter if our entire component re-renders, the function won’t re-run but instead return the stored result.\n",
        "\n",
        "## **How to conditionally add attributes to React components?**\n",
        "For certain attributes, React is intelligent enough to **omit the attribute** if the value you pass to it is not truthy. For example:"
      ]
    },
    {
      "cell_type": "code",
      "execution_count": null,
      "metadata": {
        "vscode": {
          "languageId": "javascriptreact"
        }
      },
      "outputs": [],
      "source": [
        "var InputComponent = React.createClass({\n",
        "    render: function() {\n",
        "        var required = true;\n",
        "        var disabled = false;\n",
        "\n",
        "        return (\n",
        "            <input type=\"text\" disabled={disabled} required={required} />\n",
        "        );\n",
        "    }\n",
        "});"
      ]
    },
    {
      "cell_type": "markdown",
      "metadata": {},
      "source": [
        "will result in:"
      ]
    },
    {
      "cell_type": "code",
      "execution_count": null,
      "metadata": {
        "vscode": {
          "languageId": "html"
        }
      },
      "outputs": [],
      "source": [
        "<input type=\"text\" required>"
      ]
    },
    {
      "cell_type": "markdown",
      "metadata": {},
      "source": [
        "Another possible approach is:"
      ]
    },
    {
      "cell_type": "code",
      "execution_count": null,
      "metadata": {
        "vscode": {
          "languageId": "javascriptreact"
        }
      },
      "outputs": [],
      "source": [
        "var condition = true;\n",
        "\n",
        "var component = (\n",
        "  <div\n",
        "    value=\"foo\"\n",
        "    { ...( condition && { disabled: true } ) } />\n",
        ");"
      ]
    },
    {
      "cell_type": "markdown",
      "metadata": {},
      "source": [
        "## **How to apply validation on *props* in React?**\n",
        "When the application is running in development mode, React will **automatically check for all props** that we set on components to make sure they must right correct and right data type. For incorrect type, it will generate **warning messages** in the console for development mode whereas it is disabled in production mode due performance impact. The mandatory prop is defined with *isRequired*.\n",
        "\n",
        "For example, we define *propTypes* for user component as below:"
      ]
    },
    {
      "cell_type": "code",
      "execution_count": null,
      "metadata": {
        "vscode": {
          "languageId": "javascriptreact"
        }
      },
      "outputs": [],
      "source": [
        "import PropTypes from 'prop-types';\n",
        "\n",
        "class User extends React.Component {\n",
        "  render() {\n",
        "    return (\n",
        "      <div>\n",
        "        <h1>Welcome, {this.props.name}</h1>\n",
        "        <h2>Age, {this.props.age}</h2>\n",
        "      </div>\n",
        "    );\n",
        "  }\n",
        "}\n",
        "\n",
        "User.propTypes = {\n",
        "  name: PropTypes.string.isRequired,\n",
        "  age: PropTypes.number.isRequired\n",
        "};"
      ]
    },
    {
      "cell_type": "markdown",
      "metadata": {},
      "source": [
        "## **How would you go about investigating slow React application rendering?**\n",
        "One of the most common issues in React applications is when components re-render unnecessarily. There are two tools provided by React that are helpful in these situations:\n",
        "\n",
        "- ***React.memo()***: This prevents unnecessary re-rendering of function components.\n",
        "\n",
        "- ***PureComponent***: This prevents unnecessary re-rendering of class components.\n",
        "\n",
        "Both of these tools rely on a **shallow comparison of the props passed** into the component, if the props have not changed, then the component will not re-render. While both tools are very useful, the shallow comparison brings with it an additional performance penalty, so both can have a negative performance impact if used incorrectly. By using the *React Profiler*, **performance can be measured** before and after using these tools to ensure that performance is actually improved by making a given change.\n",
        "\n",
        "## **What is the difference between using constructor and *getInitialState* in React?**\n",
        "The difference between constructor and *getInitialState* is the **difference between ES6 and ES5** itself. You should initialize state in the constructor when using ES6 classes, and define the *getInitialState* method when using React.createClass. Let's see an example:"
      ]
    },
    {
      "cell_type": "code",
      "execution_count": null,
      "metadata": {
        "vscode": {
          "languageId": "javascriptreact"
        }
      },
      "outputs": [],
      "source": [
        "class MyComponent extends React.Component {\n",
        "  constructor(props) {\n",
        "    super(props);\n",
        "    this.state = { /* initial state */ };\n",
        "  }\n",
        "}"
      ]
    },
    {
      "cell_type": "markdown",
      "metadata": {},
      "source": [
        "is equivalent to:"
      ]
    },
    {
      "cell_type": "code",
      "execution_count": null,
      "metadata": {
        "vscode": {
          "languageId": "javascriptreact"
        }
      },
      "outputs": [],
      "source": [
        "var MyComponent = React.createClass({\n",
        "  getInitialState() {\n",
        "    return { /* initial state */ };\n",
        "  },\n",
        "});"
      ]
    },
    {
      "cell_type": "markdown",
      "metadata": {},
      "source": [
        "## **What's the difference between *useCallback* and *useMemo* in practice?**\n",
        "With *useCallback* you memoize **functions**, *useMemo* memoizes any **computed value**:"
      ]
    },
    {
      "cell_type": "code",
      "execution_count": null,
      "metadata": {
        "vscode": {
          "languageId": "javascriptreact"
        }
      },
      "outputs": [],
      "source": [
        "const fn = () => 42\n",
        "\n",
        "const memoFn = useCallback(fn, [dep]) // 1\n",
        "const memoFnReturn = useMemo(fn, [dep]) // 2"
      ]
    },
    {
      "cell_type": "markdown",
      "metadata": {},
      "source": [
        "(1) will return a memoized version of the function. But every time you invoke *memoFn*, that complex computation starts again.\n",
        "\n",
        "(2) will invoke the function every time dep changes and remember its returned value (42), which is then stored in *memoFnReturn*.\n",
        "\n",
        "## **When is it important to pass *props* to *super*, and why?**\n",
        "The only one reason when one needs to pass props to *super()* is when you want to **access *this.props* in constructor** as shown below:"
      ]
    },
    {
      "cell_type": "code",
      "execution_count": null,
      "metadata": {
        "vscode": {
          "languageId": "javascriptreact"
        }
      },
      "outputs": [],
      "source": [
        "class MyComponent extends React.Component {    \n",
        "    constructor(props) {\n",
        "        super(props)\n",
        "\n",
        "        console.log(this.props)\n",
        "        // -> { icon: 'home', … }\n",
        "    }\n",
        "}"
      ]
    },
    {
      "cell_type": "markdown",
      "metadata": {},
      "source": [
        "Not passing:"
      ]
    },
    {
      "cell_type": "code",
      "execution_count": null,
      "metadata": {
        "vscode": {
          "languageId": "javascriptreact"
        }
      },
      "outputs": [],
      "source": [
        "class MyComponent extends React.Component {    \n",
        "    constructor(props) {\n",
        "        super()\n",
        "\n",
        "        console.log(this.props)\n",
        "        // -> undefined\n",
        "\n",
        "        // Props parameter is still available\n",
        "        console.log(props)\n",
        "        // -> { icon: 'home', … }\n",
        "    }\n",
        "\n",
        "    render() {\n",
        "        // No difference outside constructor\n",
        "        console.log(this.props)\n",
        "        // -> { icon: 'home', … }\n",
        "    }\n",
        "}"
      ]
    },
    {
      "cell_type": "markdown",
      "metadata": {},
      "source": [
        "Note that passing or not passing *props* to *super* has no effect on later uses of *this.props* outside constructor.\n",
        "\n",
        "\n",
        "## **When to use *useState* vs *useReducer*?**\n",
        "The decision of whether to use *useState* or *useReducer* isn't always black and white; there are many shades of grey:\n",
        "\n",
        "**Use *useState* if you have:*\n",
        "\n",
        "- JavaScript primitives as state.\n",
        "- Simple state transitions.\n",
        "- Business logic within your component.\n",
        "- Different properties that don't change in any correlated way and can be managed by multiple *useState* hooks.\n",
        "\n",
        "\n",
        "**Use *useReducer* if you have:**\n",
        "\n",
        "- JavaScript objects or arrays as state.\n",
        "- Complex state transitions.\n",
        "- Complicated business logic more suitable for a reducer function.\n",
        "- Different properties tied together that should be managed in one state object.\n",
        "\n",
        "\n",
        "## **Why would you need to bind event handlers to *this*?**\n",
        "Binding is not something that is specifc to React, but rather how this works in Javascript. When you define a component using an ES6 class, a common pattern is for an event handler to be a method on the class. In JavaScript, class methods are not bound by default. If you forget to bind *this.someEventHandler* and pass it to *onChange*, this will be *undefined* when the function is actually called.\n",
        "\n",
        "Generally, if you refer to a method without \"()\" after it, such as *onChange={this.someEventHandler}*, you should bind that method.\n",
        "\n",
        "\n",
        "## **What is the key architectural difference between a JavaScript library such as React and a JavaScript framework such as Angular?**\n",
        "React is a JavaScript library, whereas Angular is a TypeScript-based JavaScript framework. React uses **one-way data binding** and **virtual DOM** trees, whereas Angular uses two-way data binding and real DOM. Moreover, React is faster than Angular as it has a smaller bundle size."
      ]
    }
  ],
  "metadata": {
    "kernelspec": {
      "display_name": "Python (Pyodide)",
      "language": "python",
      "name": "python"
    },
    "language_info": {
      "codemirror_mode": {
        "name": "python",
        "version": 3
      },
      "file_extension": ".py",
      "mimetype": "text/x-python",
      "name": "python",
      "nbconvert_exporter": "python",
      "pygments_lexer": "ipython3",
      "version": "3.8"
    }
  },
  "nbformat": 4,
  "nbformat_minor": 4
}
